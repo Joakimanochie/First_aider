{
 "cells": [
  {
   "cell_type": "code",
   "execution_count": 5,
   "metadata": {},
   "outputs": [
    {
     "name": "stderr",
     "output_type": "stream",
     "text": [
      "c:\\Users\\HP\\anaconda3\\envs\\faider\\lib\\site-packages\\tqdm\\auto.py:21: TqdmWarning: IProgress not found. Please update jupyter and ipywidgets. See https://ipywidgets.readthedocs.io/en/stable/user_install.html\n",
      "  from .autonotebook import tqdm as notebook_tqdm\n"
     ]
    }
   ],
   "source": [
    "import os\n",
    "import google.generativeai as genai\n",
    "\n",
    "\n",
    "from langchain_google_genai import ChatGoogleGenerativeAI\n",
    "from langchain.chains import LLMChain  \n",
    "from langchain.prompts import PromptTemplate"
   ]
  },
  {
   "cell_type": "code",
   "execution_count": 2,
   "metadata": {},
   "outputs": [],
   "source": [
    "from dotenv import load_dotenv\n",
    "load_dotenv()\n",
    "GOOGLE_API_KEY = os.getenv(\"GOOGLE_API_KEY\")"
   ]
  },
  {
   "cell_type": "code",
   "execution_count": 6,
   "metadata": {},
   "outputs": [
    {
     "ename": "FileNotFoundError",
     "evalue": "[Errno 2] No such file or directory: 'car-accident-victim-lying-on-the-street-simulation-with-realistic-injury-make-up-2C9JC48.jpg'",
     "output_type": "error",
     "traceback": [
      "\u001b[1;31m---------------------------------------------------------------------------\u001b[0m",
      "\u001b[1;31mFileNotFoundError\u001b[0m                         Traceback (most recent call last)",
      "Cell \u001b[1;32mIn[6], line 50\u001b[0m\n\u001b[0;32m     42\u001b[0m \u001b[38;5;66;03m##initialize our streamlit app\u001b[39;00m\n\u001b[0;32m     43\u001b[0m \n\u001b[0;32m     44\u001b[0m \u001b[38;5;66;03m#st.set_page_config(page_title=\"First Aid Assitance ⛑️\")\u001b[39;00m\n\u001b[0;32m     45\u001b[0m \n\u001b[0;32m     46\u001b[0m \u001b[38;5;66;03m#st.header(\"First Aid Assitance ⛑️\")\u001b[39;00m\n\u001b[0;32m     47\u001b[0m description \u001b[38;5;241m=\u001b[39m \u001b[38;5;124m'\u001b[39m\u001b[38;5;124mcar-accident-victim-lying-on-the-street\u001b[39m\u001b[38;5;124m'\u001b[39m\n\u001b[0;32m     48\u001b[0m picture \u001b[38;5;241m=\u001b[39m [{\n\u001b[0;32m     49\u001b[0m     \u001b[38;5;124m'\u001b[39m\u001b[38;5;124mmime_type\u001b[39m\u001b[38;5;124m'\u001b[39m: \u001b[38;5;124m'\u001b[39m\u001b[38;5;124mimage/jpg\u001b[39m\u001b[38;5;124m'\u001b[39m,\n\u001b[1;32m---> 50\u001b[0m     \u001b[38;5;124m'\u001b[39m\u001b[38;5;124mdata\u001b[39m\u001b[38;5;124m'\u001b[39m: \u001b[43mpathlib\u001b[49m\u001b[38;5;241;43m.\u001b[39;49m\u001b[43mPath\u001b[49m\u001b[43m(\u001b[49m\u001b[38;5;124;43m'\u001b[39;49m\u001b[38;5;124;43mcar-accident-victim-lying-on-the-street-simulation-with-realistic-injury-make-up-2C9JC48.jpg\u001b[39;49m\u001b[38;5;124;43m'\u001b[39;49m\u001b[43m)\u001b[49m\u001b[38;5;241;43m.\u001b[39;49m\u001b[43mread_bytes\u001b[49m\u001b[43m(\u001b[49m\u001b[43m)\u001b[49m\n\u001b[0;32m     51\u001b[0m }]\n\u001b[0;32m     53\u001b[0m input_prompt\u001b[38;5;241m=\u001b[39m\u001b[38;5;124m\"\"\"\u001b[39m\n\u001b[0;32m     54\u001b[0m \u001b[38;5;124mYou are a dedicated and compassionate first-aid professional with years of experience in emergency medicine. \u001b[39m\u001b[38;5;130;01m\\\u001b[39;00m\n\u001b[0;32m     55\u001b[0m \u001b[38;5;124mYou have a strong commitment to saving lives and ensuring the well-being of those in need. You have an advanced degree in emergency medicine. \u001b[39m\u001b[38;5;130;01m\\\u001b[39;00m\n\u001b[1;32m   (...)\u001b[0m\n\u001b[0;32m     68\u001b[0m \n\u001b[0;32m     69\u001b[0m \u001b[38;5;124m\"\"\"\u001b[39m\n\u001b[0;32m     71\u001b[0m \u001b[38;5;66;03m## If submit button is clicked\u001b[39;00m\n",
      "File \u001b[1;32mc:\\Users\\HP\\anaconda3\\envs\\faider\\lib\\pathlib.py:1126\u001b[0m, in \u001b[0;36mPath.read_bytes\u001b[1;34m(self)\u001b[0m\n\u001b[0;32m   1122\u001b[0m \u001b[38;5;28;01mdef\u001b[39;00m \u001b[38;5;21mread_bytes\u001b[39m(\u001b[38;5;28mself\u001b[39m):\n\u001b[0;32m   1123\u001b[0m \u001b[38;5;250m    \u001b[39m\u001b[38;5;124;03m\"\"\"\u001b[39;00m\n\u001b[0;32m   1124\u001b[0m \u001b[38;5;124;03m    Open the file in bytes mode, read it, and close the file.\u001b[39;00m\n\u001b[0;32m   1125\u001b[0m \u001b[38;5;124;03m    \"\"\"\u001b[39;00m\n\u001b[1;32m-> 1126\u001b[0m     \u001b[38;5;28;01mwith\u001b[39;00m \u001b[38;5;28;43mself\u001b[39;49m\u001b[38;5;241;43m.\u001b[39;49m\u001b[43mopen\u001b[49m\u001b[43m(\u001b[49m\u001b[43mmode\u001b[49m\u001b[38;5;241;43m=\u001b[39;49m\u001b[38;5;124;43m'\u001b[39;49m\u001b[38;5;124;43mrb\u001b[39;49m\u001b[38;5;124;43m'\u001b[39;49m\u001b[43m)\u001b[49m \u001b[38;5;28;01mas\u001b[39;00m f:\n\u001b[0;32m   1127\u001b[0m         \u001b[38;5;28;01mreturn\u001b[39;00m f\u001b[38;5;241m.\u001b[39mread()\n",
      "File \u001b[1;32mc:\\Users\\HP\\anaconda3\\envs\\faider\\lib\\pathlib.py:1119\u001b[0m, in \u001b[0;36mPath.open\u001b[1;34m(self, mode, buffering, encoding, errors, newline)\u001b[0m\n\u001b[0;32m   1117\u001b[0m \u001b[38;5;28;01mif\u001b[39;00m \u001b[38;5;124m\"\u001b[39m\u001b[38;5;124mb\u001b[39m\u001b[38;5;124m\"\u001b[39m \u001b[38;5;129;01mnot\u001b[39;00m \u001b[38;5;129;01min\u001b[39;00m mode:\n\u001b[0;32m   1118\u001b[0m     encoding \u001b[38;5;241m=\u001b[39m io\u001b[38;5;241m.\u001b[39mtext_encoding(encoding)\n\u001b[1;32m-> 1119\u001b[0m \u001b[38;5;28;01mreturn\u001b[39;00m \u001b[38;5;28;43mself\u001b[39;49m\u001b[38;5;241;43m.\u001b[39;49m\u001b[43m_accessor\u001b[49m\u001b[38;5;241;43m.\u001b[39;49m\u001b[43mopen\u001b[49m\u001b[43m(\u001b[49m\u001b[38;5;28;43mself\u001b[39;49m\u001b[43m,\u001b[49m\u001b[43m \u001b[49m\u001b[43mmode\u001b[49m\u001b[43m,\u001b[49m\u001b[43m \u001b[49m\u001b[43mbuffering\u001b[49m\u001b[43m,\u001b[49m\u001b[43m \u001b[49m\u001b[43mencoding\u001b[49m\u001b[43m,\u001b[49m\u001b[43m \u001b[49m\u001b[43merrors\u001b[49m\u001b[43m,\u001b[49m\n\u001b[0;32m   1120\u001b[0m \u001b[43m                           \u001b[49m\u001b[43mnewline\u001b[49m\u001b[43m)\u001b[49m\n",
      "\u001b[1;31mFileNotFoundError\u001b[0m: [Errno 2] No such file or directory: 'car-accident-victim-lying-on-the-street-simulation-with-realistic-injury-make-up-2C9JC48.jpg'"
     ]
    }
   ],
   "source": [
    "from dotenv import load_dotenv\n",
    "\n",
    "load_dotenv() ## load all the environment variables\n",
    "\n",
    "\n",
    "import os\n",
    "import google.generativeai as genai\n",
    "from PIL import Image\n",
    "import pathlib\n",
    "\n",
    "\n",
    "os.environ[\"GOOGLE_API_KEY\"] = os.getenv(\"GOOGLE_API_KEY\")\n",
    "genai.configure(api_key=os.environ[\"GOOGLE_API_KEY\"])\n",
    "\n",
    "## Function to load Google Gemini Pro Vision API And get response\n",
    "\n",
    "def get_gemini_repsonse(input,image,prompt):\n",
    "    model=genai.GenerativeModel('gemini-pro-vision', safety_settings = [\n",
    "    {\"category\": \"HARM_CATEGORY_HARASSMENT\", \"threshold\": \"BLOCK_NONE\"},\n",
    "    {\"category\": \"HARM_CATEGORY_HATE_SPEECH\", \"threshold\": \"BLOCK_NONE\"},\n",
    "    {\"category\": \"HARM_CATEGORY_SEXUALLY_EXPLICIT\", \"threshold\": \"BLOCK_NONE\"},\n",
    "    {\"category\": \"HARM_CATEGORY_DANGEROUS_CONTENT\", \"threshold\": \"BLOCK_NONE\"}])\n",
    "    response=model.generate_content([input,image[0],prompt])\n",
    "    return response.text\n",
    "\n",
    "def input_image_setup(uploaded_file):\n",
    "    # Check if a file has been uploaded\n",
    "    if uploaded_file is not None:\n",
    "        # Read the file into bytes\n",
    "        bytes_data = uploaded_file.getvalue()\n",
    "\n",
    "        image_parts = [\n",
    "            {\n",
    "                \"mime_type\": uploaded_file.type,  # Get the mime type of the uploaded file\n",
    "                \"data\": bytes_data\n",
    "            }\n",
    "        ]\n",
    "        return image_parts\n",
    "    else:\n",
    "        raise FileNotFoundError(\"No file uploaded\")\n",
    "    \n",
    "##initialize our streamlit app\n",
    "\n",
    "#st.set_page_config(page_title=\"First Aid Assitance ⛑️\")\n",
    "\n",
    "#st.header(\"First Aid Assitance ⛑️\")\n",
    "description = 'car-accident-victim-lying-on-the-street'\n",
    "picture = [{\n",
    "    'mime_type': 'image/jpg',\n",
    "    'data': pathlib.Path('car-accident-victim-lying-on-the-street-simulation-with-realistic-injury-make-up-2C9JC48.jpg').read_bytes()\n",
    "}]\n",
    "\n",
    "input_prompt=\"\"\"\n",
    "You are a dedicated and compassionate first-aid professional with years of experience in emergency medicine. \\\n",
    "You have a strong commitment to saving lives and ensuring the well-being of those in need. You have an advanced degree in emergency medicine. \\\n",
    "Your expertise spans from basic first aid techniques to advanced life support procedures.In high-pressure situations, you remain level-headed and thinks on your feet. \\\n",
    "Your ability to assess and prioritize critical cases is unmatched.Your meticulous attention to detail ensures accurate diagnoses and effective treatment.\\\n",
    "Given an image {image} and {description} of an emergency situation, you must provide a detailed response outlining the steps you would take to address the situation that will allow any individual to help the causalty.\\\n",
    "Your response should include an assessment of the patient's condition, and a plan of action to provide immediate care(in chronological order to follow), this should be communicated in a clear and concise manner.\\\n",
    "follow this format\n",
    "              Assessment: Assessment of the patient's condition goes here\n",
    "              Steps to take: Plan of action to provide immediate care \n",
    "               1. Step 1\n",
    "               2. Step 2\n",
    "               ----\n",
    "               ----\n",
    "\n",
    "\n",
    "\"\"\"\n",
    "\n",
    "## If submit button is clicked\n",
    "response=get_gemini_repsonse(input_prompt,picture,description)\n",
    "if response.prompt_feedback.is_blocked:\n",
    "        print(\"The prompt was blocked.\")\n",
    "        print(\"Reason: \", response.prompt_feedback.block_reason)\n",
    "else:\n",
    "        print(\"The prompt was not blocked.\")\n",
    "        print(response.prompt_feedback)"
   ]
  },
  {
   "cell_type": "code",
   "execution_count": 2,
   "metadata": {},
   "outputs": [
    {
     "ename": "NameError",
     "evalue": "name 'response' is not defined",
     "output_type": "error",
     "traceback": [
      "\u001b[1;31m---------------------------------------------------------------------------\u001b[0m",
      "\u001b[1;31mNameError\u001b[0m                                 Traceback (most recent call last)",
      "Cell \u001b[1;32mIn[2], line 1\u001b[0m\n\u001b[1;32m----> 1\u001b[0m \u001b[43mresponse\u001b[49m\u001b[38;5;241m.\u001b[39mprompt_feedback\u001b[38;5;241m.\u001b[39mblock_reason\n",
      "\u001b[1;31mNameError\u001b[0m: name 'response' is not defined"
     ]
    }
   ],
   "source": [
    "response.prompt_feedback.block_reason"
   ]
  },
  {
   "cell_type": "code",
   "execution_count": 4,
   "metadata": {},
   "outputs": [
    {
     "name": "stdout",
     "output_type": "stream",
     "text": [
      "None\n"
     ]
    }
   ],
   "source": [
    "print(GOOGLE_API_KEY)"
   ]
  },
  {
   "cell_type": "code",
   "execution_count": null,
   "metadata": {},
   "outputs": [],
   "source": [
    "os.environ[\"GOOGLE_API_KEY\"] = os.getenv(\"GOOGLE_API_KEY\")\n",
    "genai.configure(api_key=os.environ[\"GOOGLE_API_KEY\"])"
   ]
  }
 ],
 "metadata": {
  "kernelspec": {
   "display_name": "faider",
   "language": "python",
   "name": "python3"
  },
  "language_info": {
   "codemirror_mode": {
    "name": "ipython",
    "version": 3
   },
   "file_extension": ".py",
   "mimetype": "text/x-python",
   "name": "python",
   "nbconvert_exporter": "python",
   "pygments_lexer": "ipython3",
   "version": "3.10.14"
  }
 },
 "nbformat": 4,
 "nbformat_minor": 2
}
